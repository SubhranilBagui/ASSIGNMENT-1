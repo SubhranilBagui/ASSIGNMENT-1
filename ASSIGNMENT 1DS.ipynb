{
 "cells": [
  {
   "cell_type": "markdown",
   "id": "4ca58c62-8279-4225-8301-62fd94720794",
   "metadata": {},
   "source": [
    "Q1. Create one variable containing following type of data:\n",
    "(i) string\n",
    "(ii) list\n",
    "(iii) float\n",
    "(iv) tuple"
   ]
  },
  {
   "cell_type": "code",
   "execution_count": 1,
   "id": "6d851991-731a-4eb9-9043-c114a28b46aa",
   "metadata": {},
   "outputs": [],
   "source": [
    "a = [\"subhranil\",[2,3,'apple',23.45,True],99.99,(78,'pwskills',20.12,False)]"
   ]
  },
  {
   "cell_type": "code",
   "execution_count": 2,
   "id": "b6a76203-26b0-4988-bd27-34859935a2fd",
   "metadata": {},
   "outputs": [
    {
     "data": {
      "text/plain": [
       "str"
      ]
     },
     "execution_count": 2,
     "metadata": {},
     "output_type": "execute_result"
    }
   ],
   "source": [
    "type(a[0])"
   ]
  },
  {
   "cell_type": "code",
   "execution_count": 3,
   "id": "ff769271-953d-4bc7-946d-a5f4e57b73e3",
   "metadata": {},
   "outputs": [
    {
     "data": {
      "text/plain": [
       "list"
      ]
     },
     "execution_count": 3,
     "metadata": {},
     "output_type": "execute_result"
    }
   ],
   "source": [
    "type(a[1])"
   ]
  },
  {
   "cell_type": "code",
   "execution_count": 4,
   "id": "a1bf48dc-f8b1-4522-b00a-88ace1e18f30",
   "metadata": {},
   "outputs": [
    {
     "data": {
      "text/plain": [
       "float"
      ]
     },
     "execution_count": 4,
     "metadata": {},
     "output_type": "execute_result"
    }
   ],
   "source": [
    "type(a[2])"
   ]
  },
  {
   "cell_type": "code",
   "execution_count": 5,
   "id": "5977b805-0dea-433e-b427-a5ee83fb41e2",
   "metadata": {},
   "outputs": [
    {
     "data": {
      "text/plain": [
       "tuple"
      ]
     },
     "execution_count": 5,
     "metadata": {},
     "output_type": "execute_result"
    }
   ],
   "source": [
    "type(a[3])"
   ]
  },
  {
   "cell_type": "markdown",
   "id": "e3a6b7e5-42f8-45a0-9648-a0dcdf708a19",
   "metadata": {},
   "source": [
    "Q2. Given are some following variables containing data:\n",
    "(i) var1 = ‘ ‘\n",
    "(ii) var2 = ‘[ DS , ML , Python]’\n",
    "(iii) var3 = [ ‘DS’ , ’ML’ , ‘Python’ ]\n",
    "(iv) var4 = 1.\n",
    "What will be the data type of the above given variable."
   ]
  },
  {
   "cell_type": "code",
   "execution_count": 7,
   "id": "1171ab0e-048e-4602-92ae-429be714f6ba",
   "metadata": {},
   "outputs": [
    {
     "data": {
      "text/plain": [
       "str"
      ]
     },
     "execution_count": 7,
     "metadata": {},
     "output_type": "execute_result"
    }
   ],
   "source": [
    "var1 = ''\n",
    "type(var1)"
   ]
  },
  {
   "cell_type": "code",
   "execution_count": 8,
   "id": "263de4aa-97ff-45a2-81d0-385eb8df5c99",
   "metadata": {},
   "outputs": [
    {
     "data": {
      "text/plain": [
       "str"
      ]
     },
     "execution_count": 8,
     "metadata": {},
     "output_type": "execute_result"
    }
   ],
   "source": [
    "var2 = '[ DS , ML , Python]'\n",
    "type(var2)"
   ]
  },
  {
   "cell_type": "code",
   "execution_count": 9,
   "id": "b764ada6-a53a-4198-8855-6a36f8b0066d",
   "metadata": {},
   "outputs": [
    {
     "data": {
      "text/plain": [
       "list"
      ]
     },
     "execution_count": 9,
     "metadata": {},
     "output_type": "execute_result"
    }
   ],
   "source": [
    "var3 = ['DS','ML','Python']\n",
    "type(var3)"
   ]
  },
  {
   "cell_type": "code",
   "execution_count": 10,
   "id": "f26db487-f449-458d-99e9-54c446b2df5a",
   "metadata": {},
   "outputs": [
    {
     "data": {
      "text/plain": [
       "float"
      ]
     },
     "execution_count": 10,
     "metadata": {},
     "output_type": "execute_result"
    }
   ],
   "source": [
    "var4 = 1.\n",
    "type(var4)"
   ]
  },
  {
   "cell_type": "markdown",
   "id": "6816b1b8-20a4-47c9-8058-371959b12dcf",
   "metadata": {},
   "source": [
    "Q3. Explain the use of the following operators using an example:\n",
    "(i) /\n",
    "(ii) %\n",
    "(iii) //\n",
    "(iv) **"
   ]
  },
  {
   "cell_type": "code",
   "execution_count": 12,
   "id": "5b3b48ce-23f2-484d-a43d-b9e1291a7a79",
   "metadata": {},
   "outputs": [
    {
     "name": "stdout",
     "output_type": "stream",
     "text": [
      "20.0\n"
     ]
    }
   ],
   "source": [
    "a = 500 # '/'this denotes division between variables and it is artihmatic operator\n",
    "b = 25\n",
    "c = a/b\n",
    "print(c)"
   ]
  },
  {
   "cell_type": "code",
   "execution_count": 18,
   "id": "b4732faf-799e-409e-86f7-cb9b031a942e",
   "metadata": {},
   "outputs": [
    {
     "name": "stdout",
     "output_type": "stream",
     "text": [
      "15\n"
     ]
    }
   ],
   "source": [
    "a = 300 # '%'this denotes reamaider(Modulo) after division between variables and it is artihmatic operator\n",
    "b = 19\n",
    "c = a%b\n",
    "print(c)"
   ]
  },
  {
   "cell_type": "code",
   "execution_count": 15,
   "id": "3eedafb4-1ca8-4986-bc4c-ce84251710be",
   "metadata": {},
   "outputs": [
    {
     "name": "stdout",
     "output_type": "stream",
     "text": [
      "3\n"
     ]
    }
   ],
   "source": [
    "a = 10 #This'//' is floor operator and this operator will divide the first argument by the second and round the result down to the nearest whole number.\n",
    "b = 3\n",
    "c = a//b\n",
    "print(c)"
   ]
  },
  {
   "cell_type": "code",
   "execution_count": 17,
   "id": "72bbdfa9-9d80-4081-9d02-3c263e6dba45",
   "metadata": {},
   "outputs": [
    {
     "name": "stdout",
     "output_type": "stream",
     "text": [
      "125\n"
     ]
    }
   ],
   "source": [
    "a = 5  # This '**'is power operator and this will give power of a number.\n",
    "b = 3\n",
    "c = a**b\n",
    "print(c)"
   ]
  },
  {
   "cell_type": "markdown",
   "id": "044e8d94-6f41-4ab2-b38c-ee2a045a1130",
   "metadata": {},
   "source": [
    "Q4. Create a list of length 10 of your choice containing multiple types of data. Using for loop print the\n",
    "element and its data type."
   ]
  },
  {
   "cell_type": "code",
   "execution_count": 34,
   "id": "48fcb15f-3e55-4e64-aad5-7f80332ad69a",
   "metadata": {},
   "outputs": [
    {
     "name": "stdout",
     "output_type": "stream",
     "text": [
      "The length of the list is: 10\n",
      "<class 'int'>\n",
      "2\n",
      "<class 'int'>\n",
      "3\n",
      "<class 'int'>\n",
      "4\n",
      "<class 'int'>\n",
      "5\n",
      "<class 'int'>\n",
      "6\n",
      "<class 'str'>\n",
      "subh\n",
      "<class 'complex'>\n",
      "(3+7j)\n",
      "<class 'float'>\n",
      "23.14\n",
      "<class 'bool'>\n",
      "True\n",
      "<class 'tuple'>\n",
      "(89, 45, 'apple', False)\n"
     ]
    }
   ],
   "source": [
    "l = [2,3,4,5,6,\"subh\",3+7j,23.14,True,(89,45,'apple',False)]\n",
    "n = len(l)\n",
    "print('The length of the list is:',n)\n",
    "for i in l:\n",
    "    print(type(i))\n",
    "    if i == l:\n",
    "        continue\n",
    "    print(i)"
   ]
  },
  {
   "cell_type": "markdown",
   "id": "64fb94d1-031c-4e45-be1b-69dfad3e5a3f",
   "metadata": {},
   "source": [
    "Q5. Using a while loop, verify if the number A is purely divisible by number B and if so then how many\n",
    "times it can be divisible."
   ]
  },
  {
   "cell_type": "code",
   "execution_count": 35,
   "id": "3cd4c786-1000-40b3-b70e-01a160ec1d3c",
   "metadata": {},
   "outputs": [
    {
     "name": "stdin",
     "output_type": "stream",
     "text": [
      "Enter number A:  45\n",
      "Enter number B:  5\n"
     ]
    },
    {
     "name": "stdout",
     "output_type": "stream",
     "text": [
      "Number A is divisible by B\n",
      "Number A is divisible by B for 1 times\n"
     ]
    }
   ],
   "source": [
    "a = int(input(\"Enter number A: \"))\n",
    "b = int(input(\"Enter number B: \"))\n",
    "count = 0  \n",
    "while a % b == 0:\n",
    "    count += 1\n",
    "    a = a / b\n",
    "if count > 0:\n",
    "    print(\"Number A is divisible by B\")\n",
    "    print(\"Number A is divisible by B for\", count, \"times\")\n",
    "else:\n",
    "    print(\"Number A is not divisible by B\")"
   ]
  },
  {
   "cell_type": "markdown",
   "id": "f71ea76a-1d7e-4142-a62c-836d7c388ae5",
   "metadata": {},
   "source": [
    "Q6.Create a list containing 25 int type data. Using for loop and if-else condition print if the element is\n",
    "divisible by 3 or not."
   ]
  },
  {
   "cell_type": "code",
   "execution_count": 43,
   "id": "65933a87-9b1f-4448-894d-dbf8cfb44fd7",
   "metadata": {},
   "outputs": [
    {
     "name": "stdout",
     "output_type": "stream",
     "text": [
      "0 is divisible by 3\n",
      "1 is not divisible by 3\n",
      "2 is not divisible by 3\n",
      "3 is divisible by 3\n",
      "4 is not divisible by 3\n",
      "5 is not divisible by 3\n",
      "6 is divisible by 3\n",
      "7 is not divisible by 3\n",
      "8 is not divisible by 3\n",
      "9 is divisible by 3\n",
      "10 is not divisible by 3\n",
      "11 is not divisible by 3\n",
      "12 is divisible by 3\n",
      "13 is not divisible by 3\n",
      "14 is not divisible by 3\n",
      "15 is divisible by 3\n",
      "16 is not divisible by 3\n",
      "17 is not divisible by 3\n",
      "18 is divisible by 3\n",
      "19 is not divisible by 3\n",
      "20 is not divisible by 3\n",
      "21 is divisible by 3\n",
      "22 is not divisible by 3\n",
      "23 is not divisible by 3\n",
      "24 is divisible by 3\n"
     ]
    }
   ],
   "source": [
    "m = []\n",
    "for i in range(25):\n",
    "    m.append(i)\n",
    "for n in m:\n",
    "    if n % 3 == 0:\n",
    "        print(n, \"is divisible by 3\")\n",
    "    else:\n",
    "        print(n, \"is not divisible by 3\")\n"
   ]
  },
  {
   "cell_type": "markdown",
   "id": "b540afe2-815a-4aed-9741-e0df4558ffab",
   "metadata": {},
   "source": [
    "Q7. What do you understand about mutable and immutable data types? Give examples for both showing\n",
    "this property."
   ]
  },
  {
   "cell_type": "markdown",
   "id": "eba4c0ea-80be-45b7-9fed-7285c25a14af",
   "metadata": {},
   "source": [
    "An object that allows you to change its values without changing its identity is a mutable object. The changes that you can perform on a mutable object’s value are known as mutations.\n",
    "\n",
    "In contrast, an object that doesn’t allow changes in its value is an immutable object.\n",
    "Generally a list or a tuple can ge mutable but a unique data type like string , bool etc. is immutable."
   ]
  },
  {
   "cell_type": "code",
   "execution_count": 44,
   "id": "50c59e05-5f93-4f9b-a5f1-b32f1c6e5e1e",
   "metadata": {},
   "outputs": [],
   "source": [
    "a = [\"apple\",2,True,23.12] #Mutable data type\n",
    "a[0] = \"Rose\"\n",
    "a[1] = 9\n",
    "a[2] = False\n",
    "a[3] = 45.45"
   ]
  },
  {
   "cell_type": "code",
   "execution_count": 45,
   "id": "a5fe5e6a-275d-459f-8043-e94f1e92eea2",
   "metadata": {},
   "outputs": [
    {
     "data": {
      "text/plain": [
       "['Rose', 9, False, 45.45]"
      ]
     },
     "execution_count": 45,
     "metadata": {},
     "output_type": "execute_result"
    }
   ],
   "source": [
    "a"
   ]
  },
  {
   "cell_type": "code",
   "execution_count": null,
   "id": "27f06c0b-78e6-457c-8bc3-f60edd46af0b",
   "metadata": {},
   "outputs": [],
   "source": [
    "b = \"MATH\"\n",
    "b[0] = \"C\"\n",
    "b[1] = \"O\"\n",
    "b[2] = \"D\"\n",
    "b[3] = \"E\""
   ]
  }
 ],
 "metadata": {
  "kernelspec": {
   "display_name": "Python 3 (ipykernel)",
   "language": "python",
   "name": "python3"
  },
  "language_info": {
   "codemirror_mode": {
    "name": "ipython",
    "version": 3
   },
   "file_extension": ".py",
   "mimetype": "text/x-python",
   "name": "python",
   "nbconvert_exporter": "python",
   "pygments_lexer": "ipython3",
   "version": "3.10.8"
  }
 },
 "nbformat": 4,
 "nbformat_minor": 5
}
